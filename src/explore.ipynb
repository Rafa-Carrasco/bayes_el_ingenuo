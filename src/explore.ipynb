{
    "cells": [
        {
            "cell_type": "markdown",
            "metadata": {},
            "source": [
                "# Explore here"
            ]
        },
        {
            "cell_type": "code",
            "execution_count": 2,
            "metadata": {},
            "outputs": [],
            "source": [
                "# Your code here\n",
                "\n",
                "import os\n",
                "import pandas as pd\n",
                "import requests\n",
                "import xgboost as xgb\n",
                "from xgboost import XGBClassifier\n",
                "from sklearn.metrics import accuracy_score, confusion_matrix, classification_report\n",
                "\n",
                "\n",
                "# 1. descargar data\n",
                "\n",
                "url = \"https://raw.githubusercontent.com/4GeeksAcademy/naive-bayes-project-tutorial/main/playstore_reviews.csv\"\n",
                "\n",
                "respuesta = requests.get(url)\n",
                "nombre_archivo = \"playstore_reviews.csv\"\n",
                "with open(nombre_archivo, 'wb') as archivo:\n",
                "    archivo.write(respuesta.content)\n"
            ]
        },
        {
            "cell_type": "code",
            "execution_count": 3,
            "metadata": {},
            "outputs": [
                {
                    "name": "stdout",
                    "output_type": "stream",
                    "text": [
                        "          package_name                                             review  \\\n",
                        "0  com.facebook.katana   privacy at least put some option appear offli...   \n",
                        "1  com.facebook.katana   messenger issues ever since the last update, ...   \n",
                        "2  com.facebook.katana   profile any time my wife or anybody has more ...   \n",
                        "3  com.facebook.katana   the new features suck for those of us who don...   \n",
                        "4  com.facebook.katana   forced reload on uploading pic on replying co...   \n",
                        "\n",
                        "   polarity  \n",
                        "0         0  \n",
                        "1         0  \n",
                        "2         0  \n",
                        "3         0  \n",
                        "4         0  \n"
                    ]
                }
            ],
            "source": [
                "# 2. convertir csv en dataframe\n",
                "\n",
                "df = pd.read_csv('../data/raw/playstore_reviews.csv')\n",
                "print(df.head())"
            ]
        },
        {
            "cell_type": "code",
            "execution_count": 4,
            "metadata": {},
            "outputs": [
                {
                    "data": {
                        "text/html": [
                            "<div>\n",
                            "<style scoped>\n",
                            "    .dataframe tbody tr th:only-of-type {\n",
                            "        vertical-align: middle;\n",
                            "    }\n",
                            "\n",
                            "    .dataframe tbody tr th {\n",
                            "        vertical-align: top;\n",
                            "    }\n",
                            "\n",
                            "    .dataframe thead th {\n",
                            "        text-align: right;\n",
                            "    }\n",
                            "</style>\n",
                            "<table border=\"1\" class=\"dataframe\">\n",
                            "  <thead>\n",
                            "    <tr style=\"text-align: right;\">\n",
                            "      <th></th>\n",
                            "      <th>review</th>\n",
                            "      <th>polarity</th>\n",
                            "    </tr>\n",
                            "  </thead>\n",
                            "  <tbody>\n",
                            "    <tr>\n",
                            "      <th>0</th>\n",
                            "      <td>privacy at least put some option appear offli...</td>\n",
                            "      <td>0</td>\n",
                            "    </tr>\n",
                            "    <tr>\n",
                            "      <th>1</th>\n",
                            "      <td>messenger issues ever since the last update, ...</td>\n",
                            "      <td>0</td>\n",
                            "    </tr>\n",
                            "    <tr>\n",
                            "      <th>2</th>\n",
                            "      <td>profile any time my wife or anybody has more ...</td>\n",
                            "      <td>0</td>\n",
                            "    </tr>\n",
                            "    <tr>\n",
                            "      <th>3</th>\n",
                            "      <td>the new features suck for those of us who don...</td>\n",
                            "      <td>0</td>\n",
                            "    </tr>\n",
                            "    <tr>\n",
                            "      <th>4</th>\n",
                            "      <td>forced reload on uploading pic on replying co...</td>\n",
                            "      <td>0</td>\n",
                            "    </tr>\n",
                            "  </tbody>\n",
                            "</table>\n",
                            "</div>"
                        ],
                        "text/plain": [
                            "                                              review  polarity\n",
                            "0   privacy at least put some option appear offli...         0\n",
                            "1   messenger issues ever since the last update, ...         0\n",
                            "2   profile any time my wife or anybody has more ...         0\n",
                            "3   the new features suck for those of us who don...         0\n",
                            "4   forced reload on uploading pic on replying co...         0"
                        ]
                    },
                    "execution_count": 4,
                    "metadata": {},
                    "output_type": "execute_result"
                }
            ],
            "source": [
                "# elimiar variable 'package_name'\n",
                "\n",
                "df_redux = df.drop('package_name', axis=1)\n",
                "df_redux.head()"
            ]
        },
        {
            "cell_type": "code",
            "execution_count": 5,
            "metadata": {},
            "outputs": [
                {
                    "data": {
                        "text/html": [
                            "<div>\n",
                            "<style scoped>\n",
                            "    .dataframe tbody tr th:only-of-type {\n",
                            "        vertical-align: middle;\n",
                            "    }\n",
                            "\n",
                            "    .dataframe tbody tr th {\n",
                            "        vertical-align: top;\n",
                            "    }\n",
                            "\n",
                            "    .dataframe thead th {\n",
                            "        text-align: right;\n",
                            "    }\n",
                            "</style>\n",
                            "<table border=\"1\" class=\"dataframe\">\n",
                            "  <thead>\n",
                            "    <tr style=\"text-align: right;\">\n",
                            "      <th></th>\n",
                            "      <th>review</th>\n",
                            "      <th>polarity</th>\n",
                            "    </tr>\n",
                            "  </thead>\n",
                            "  <tbody>\n",
                            "    <tr>\n",
                            "      <th>0</th>\n",
                            "      <td>privacy at least put some option appear offlin...</td>\n",
                            "      <td>0</td>\n",
                            "    </tr>\n",
                            "    <tr>\n",
                            "      <th>1</th>\n",
                            "      <td>messenger issues ever since the last update, i...</td>\n",
                            "      <td>0</td>\n",
                            "    </tr>\n",
                            "    <tr>\n",
                            "      <th>2</th>\n",
                            "      <td>profile any time my wife or anybody has more t...</td>\n",
                            "      <td>0</td>\n",
                            "    </tr>\n",
                            "    <tr>\n",
                            "      <th>3</th>\n",
                            "      <td>the new features suck for those of us who don'...</td>\n",
                            "      <td>0</td>\n",
                            "    </tr>\n",
                            "    <tr>\n",
                            "      <th>4</th>\n",
                            "      <td>forced reload on uploading pic on replying com...</td>\n",
                            "      <td>0</td>\n",
                            "    </tr>\n",
                            "  </tbody>\n",
                            "</table>\n",
                            "</div>"
                        ],
                        "text/plain": [
                            "                                              review  polarity\n",
                            "0  privacy at least put some option appear offlin...         0\n",
                            "1  messenger issues ever since the last update, i...         0\n",
                            "2  profile any time my wife or anybody has more t...         0\n",
                            "3  the new features suck for those of us who don'...         0\n",
                            "4  forced reload on uploading pic on replying com...         0"
                        ]
                    },
                    "execution_count": 5,
                    "metadata": {},
                    "output_type": "execute_result"
                }
            ],
            "source": [
                "df_redux[\"review\"] = df_redux[\"review\"].str.strip().str.lower()\n",
                "df_redux.head()"
            ]
        },
        {
            "cell_type": "code",
            "execution_count": 6,
            "metadata": {},
            "outputs": [
                {
                    "data": {
                        "text/plain": [
                            "331    just did the latest update on viber and yet ag...\n",
                            "733    keeps crashing it only works well in extreme d...\n",
                            "382    the fail boat has arrived the 6.0 version is t...\n",
                            "704    superfast, just as i remember it ! opera mini ...\n",
                            "813    installed and immediately deleted this crap i ...\n",
                            "Name: review, dtype: object"
                        ]
                    },
                    "execution_count": 6,
                    "metadata": {},
                    "output_type": "execute_result"
                }
            ],
            "source": [
                "# split dataframe into train and test\n",
                "\n",
                "from sklearn.model_selection import train_test_split\n",
                "\n",
                "X = df_redux['review']  \n",
                "y = df_redux['polarity']\n",
                "X_train, X_test, y_train, y_test = train_test_split(X, y, test_size=0.2, random_state=42)\n",
                "X_train.head()"
            ]
        },
        {
            "cell_type": "code",
            "execution_count": 7,
            "metadata": {},
            "outputs": [
                {
                    "data": {
                        "text/plain": [
                            "array([[0, 0, 0, ..., 0, 0, 0],\n",
                            "       [0, 0, 0, ..., 0, 0, 0],\n",
                            "       [0, 0, 0, ..., 0, 0, 0],\n",
                            "       ...,\n",
                            "       [0, 0, 0, ..., 0, 0, 0],\n",
                            "       [0, 0, 0, ..., 0, 0, 0],\n",
                            "       [0, 0, 0, ..., 0, 0, 0]])"
                        ]
                    },
                    "execution_count": 7,
                    "metadata": {},
                    "output_type": "execute_result"
                }
            ],
            "source": [
                "# transformar texto en matriz de palabras\n",
                "from sklearn.feature_extraction.text import CountVectorizer\n",
                "\n",
                "vec_model = CountVectorizer(stop_words = \"english\")\n",
                "X_train_counts = vec_model.fit_transform(X_train).toarray()\n",
                "X_test_counts = vec_model.transform(X_test).toarray()\n",
                "\n",
                "X_train_counts\n",
                "\n"
            ]
        },
        {
            "cell_type": "code",
            "execution_count": 8,
            "metadata": {},
            "outputs": [
                {
                    "name": "stdout",
                    "output_type": "stream",
                    "text": [
                        "Accuracy: 0.8156424581005587\n",
                        "Classification Report:\n",
                        "              precision    recall  f1-score   support\n",
                        "\n",
                        "           0       0.84      0.90      0.87       126\n",
                        "           1       0.73      0.60      0.66        53\n",
                        "\n",
                        "    accuracy                           0.82       179\n",
                        "   macro avg       0.79      0.75      0.77       179\n",
                        "weighted avg       0.81      0.82      0.81       179\n",
                        "\n"
                    ]
                }
            ],
            "source": [
                "# implementando Multinomial NB\n",
                "\n",
                "from sklearn.naive_bayes import MultinomialNB\n",
                "from sklearn.metrics import accuracy_score, classification_report\n",
                "\n",
                "nb_classifier = MultinomialNB()\n",
                "\n",
                "# Training \n",
                "nb_classifier.fit(X_train_counts, y_train)\n",
                "\n",
                "# predictions \n",
                "y_pred = nb_classifier.predict(X_test_counts)\n",
                "\n",
                "accuracy = accuracy_score(y_test, y_pred)\n",
                "report = classification_report(y_test, y_pred)\n",
                "\n",
                "print(f'Accuracy: {accuracy}')\n",
                "print('Classification Report:')\n",
                "print(report)"
            ]
        },
        {
            "cell_type": "code",
            "execution_count": 9,
            "metadata": {},
            "outputs": [
                {
                    "name": "stdout",
                    "output_type": "stream",
                    "text": [
                        "Accuracy: 0.8044692737430168\n",
                        "Classification Report:\n",
                        "              precision    recall  f1-score   support\n",
                        "\n",
                        "           0       0.85      0.88      0.86       126\n",
                        "           1       0.69      0.62      0.65        53\n",
                        "\n",
                        "    accuracy                           0.80       179\n",
                        "   macro avg       0.77      0.75      0.76       179\n",
                        "weighted avg       0.80      0.80      0.80       179\n",
                        "\n"
                    ]
                }
            ],
            "source": [
                "# implementando Gaussian NB\n",
                "\n",
                "from sklearn.naive_bayes import GaussianNB\n",
                "from sklearn.metrics import accuracy_score, classification_report\n",
                "\n",
                "nb_classifier = GaussianNB()\n",
                "\n",
                "# Training \n",
                "nb_classifier.fit(X_train_counts, y_train)\n",
                "\n",
                "# predictions \n",
                "y_pred = nb_classifier.predict(X_test_counts)\n",
                "\n",
                "accuracy = accuracy_score(y_test, y_pred)\n",
                "report = classification_report(y_test, y_pred)\n",
                "\n",
                "print(f'Accuracy: {accuracy}')\n",
                "print('Classification Report:')\n",
                "print(report)"
            ]
        },
        {
            "cell_type": "code",
            "execution_count": 10,
            "metadata": {},
            "outputs": [
                {
                    "name": "stdout",
                    "output_type": "stream",
                    "text": [
                        "Accuracy: 0.770949720670391\n",
                        "Classification Report:\n",
                        "              precision    recall  f1-score   support\n",
                        "\n",
                        "           0       0.79      0.93      0.85       126\n",
                        "           1       0.70      0.40      0.51        53\n",
                        "\n",
                        "    accuracy                           0.77       179\n",
                        "   macro avg       0.74      0.66      0.68       179\n",
                        "weighted avg       0.76      0.77      0.75       179\n",
                        "\n"
                    ]
                }
            ],
            "source": [
                "# implementando Bernouilli NB\n",
                "\n",
                "from sklearn.naive_bayes import BernoulliNB\n",
                "from sklearn.metrics import accuracy_score, classification_report\n",
                "\n",
                "nb_classifier = BernoulliNB()\n",
                "\n",
                "# Training \n",
                "nb_classifier.fit(X_train_counts, y_train)\n",
                "\n",
                "# predictions \n",
                "y_pred = nb_classifier.predict(X_test_counts)\n",
                "\n",
                "accuracy = accuracy_score(y_test, y_pred)\n",
                "report = classification_report(y_test, y_pred)\n",
                "\n",
                "print(f'Accuracy: {accuracy}')\n",
                "print('Classification Report:')\n",
                "print(report)"
            ]
        },
        {
            "cell_type": "markdown",
            "metadata": {},
            "source": [
                " - Multinomial Naive Bayes: accuracy = 0.82\n",
                " - Gaussian Naive Bayes : accuracy = 0.80\n",
                " - Bernoulli Naive Bayes: accuracy = 0.77\n",
                "\n",
                "EL MODELO MAS ADECUADO ES EL MULTINOMIAL (como habiamos elegido originalmente) "
            ]
        },
        {
            "cell_type": "code",
            "execution_count": 13,
            "metadata": {},
            "outputs": [
                {
                    "name": "stdout",
                    "output_type": "stream",
                    "text": [
                        "Precisión del modelo híbrido Naive Bayes + Random Forest: 0.7988826815642458\n"
                    ]
                }
            ],
            "source": [
                "# probar si el modelo random forest ofrece mejor reultado\n",
                "\n",
                "from sklearn.ensemble import RandomForestClassifier\n",
                "rf_model = RandomForestClassifier(n_estimators=100, random_state=42)\n",
                "rf_model.fit(X_train_counts, y_train)\n",
                "y_pred = rf_model.predict(X_test_counts)\n",
                "\n",
                "\n",
                "# Calcular la precisión\n",
                "accuracy = accuracy_score(y_test, y_pred)\n",
                "print(f'Precisión del modelo híbrido Naive Bayes + Random Forest: {accuracy}')"
            ]
        },
        {
            "cell_type": "markdown",
            "metadata": {},
            "source": [
                "RESULTADO : El modelo random Forest no mejora la accuracy"
            ]
        }
    ],
    "metadata": {
        "kernelspec": {
            "display_name": "Python 3.8.13 64-bit ('3.8.13')",
            "language": "python",
            "name": "python3"
        },
        "language_info": {
            "codemirror_mode": {
                "name": "ipython",
                "version": 3
            },
            "file_extension": ".py",
            "mimetype": "text/x-python",
            "name": "python",
            "nbconvert_exporter": "python",
            "pygments_lexer": "ipython3",
            "version": "3.10.12"
        },
        "orig_nbformat": 4,
        "vscode": {
            "interpreter": {
                "hash": "110cc1dee26208153f2972f08a2ad52b6a56238dc66d48e87fb757ef2996db56"
            }
        }
    },
    "nbformat": 4,
    "nbformat_minor": 2
}
